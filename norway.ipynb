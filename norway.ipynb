{
 "cells": [
  {
   "cell_type": "markdown",
   "id": "8b150795-493f-4d3c-8965-0c720458f057",
   "metadata": {},
   "source": [
    "# Норвегія\r\n",
    "\r\n",
    "<div style=\"border:2px solid black; padding: 10px;\">\r\n",
    "\r\n",
    "## Загальна інформація\r\n",
    "Норвегія — країна в Північній Європі, розташована на Скандинавському півострові. Вона займає площу 385 207 км². Населення Норвегії складає приблизно 5.4 мільйона осіб.\r\n",
    "\r\n",
    "### Державний устрій\r\n",
    "Норвегія є конституційною монархією з парламентською демократією. Глава держави — король, а виконавчу владу очолює прем'єр-міністр.\r\n",
    "\r\n",
    "## Видатні персоналії\r\n",
    "- Генрік Ібсен — драматург, відомий як \"батько сучасної драми\".\r\n",
    "- Едвард Мунк — художник, автор відомої карник і вчений.\r\n",
    "\r\n",
    "## Пам'ятки кульс1мволом країни.\r\n",
    "2. Королівсь2ий палац в Осло\r\n",
    "3. Національний парк Йотунгеймен — гірський масив з найвищими вершинами в Скандинавії.\r\n",
    "\r\n",
    "### Таблиця з основними даними\r\n",
    "| Показник           | Значення             |\r\n",
    "|--------------------|----------------------|\r\n",
    "| Площа          | 385 207 км²          |\r\n",
    "| Населення      | 5.4 мільйона         |\r\n",
    "| Столиця        | Осло                 |\r\n",
    "| Офіційна мова  | Норвезька            |"
   ]
  },
  {
   "cell_type": "markdown",
   "id": "0c5b17f0-26d7-486c-9f59-518c69f6c6ba",
   "metadata": {
    "jp-MarkdownHeadingCollapsed": true
   },
   "source": [
    "import math\r\n",
    "\r\n",
    "def is_sum_of_squares(N):\r\n",
    "    if N < 0:\r\n",
    "        return \"Число повинно бути натуральним.\"\r\n",
    "\r\n",
    "    # Перебираємо всі можливі значення a та b\r\n",
    "    for a in range(1, int(math.sqrt(N)) + 1):\r\n",
    "        b_squared = N - a**2\r\n",
    "        b = int(math.sqrt(b_squared))\r\n",
    "        \r\n",
    "        # Перевіряємо, чи b^2 дійсно дорівнює N - a^2\r\n",
    "        if b_squared >= 0 and b**2 == b_squared:\r\n",
    "            return f\"Так, {N} = {a}^2 + {b}^2\"\r\n",
    "    \r\n",
    "    return f\"Ні, {N} не є сумою двох квадратів натуральних чисел.\"\r\n",
    "\r\n",
    "# Тестові приклади\r\n",
    "test_cases = [5, 13, 29, 50, 100]\r\n",
    "\r\n",
    "for case in test_cases:\r\n",
    "    print(is_sum_of_squares(case))"
   ]
  }
 ],
 "metadata": {
  "kernelspec": {
   "display_name": "Python 3 (ipykernel)",
   "language": "python",
   "name": "python3"
  },
  "language_info": {
   "codemirror_mode": {
    "name": "ipython",
    "version": 3
   },
   "file_extension": ".py",
   "mimetype": "text/x-python",
   "name": "python",
   "nbconvert_exporter": "python",
   "pygments_lexer": "ipython3",
   "version": "3.12.4"
  }
 },
 "nbformat": 4,
 "nbformat_minor": 5
}
